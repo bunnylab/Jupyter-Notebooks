{
 "cells": [
  {
   "cell_type": "code",
   "execution_count": 11,
   "metadata": {},
   "outputs": [
    {
     "name": "stdout",
     "output_type": "stream",
     "text": [
      "total size:  3159\n",
      "block size:  3151\n",
      "merkle hash:  711cb96802ef2d2455f9f006720aa6464cfcd8e23565be05083b768b5ca290d1\n",
      "header fields:  ['__class__', '__delattr__', '__dir__', '__doc__', '__eq__', '__format__', '__ge__', '__getattribute__', '__gt__', '__hash__', '__init__', '__init_subclass__', '__le__', '__lt__', '__module__', '__ne__', '__new__', '__reduce__', '__reduce_ex__', '__repr__', '__setattr__', '__sizeof__', '__slots__', '__str__', '__subclasshook__', 'bits', 'block_size', 'from_binary_data', 'magic_number', 'merkle_hash', 'merkle_hash_raw', 'nonce', 'previous_hash', 'previous_hash_raw', 'time', 'timestamp', 'version']\n",
      "transaction fields:  10\n",
      "total size:  3308\n",
      "block size:  3300\n",
      "merkle hash:  0332e45788d83f10980a2ed174409e254463014b9e87428c802b4543705ed15a\n",
      "header fields:  ['__class__', '__delattr__', '__dir__', '__doc__', '__eq__', '__format__', '__ge__', '__getattribute__', '__gt__', '__hash__', '__init__', '__init_subclass__', '__le__', '__lt__', '__module__', '__ne__', '__new__', '__reduce__', '__reduce_ex__', '__repr__', '__setattr__', '__sizeof__', '__slots__', '__str__', '__subclasshook__', 'bits', 'block_size', 'from_binary_data', 'magic_number', 'merkle_hash', 'merkle_hash_raw', 'nonce', 'previous_hash', 'previous_hash_raw', 'time', 'timestamp', 'version']\n",
      "transaction fields:  10\n",
      "total size:  19451\n",
      "block size:  19443\n",
      "merkle hash:  b968f6215e24e517fed7644360a6a129373dbf599e4c53d1ed2f59995c3cf26f\n",
      "header fields:  ['__class__', '__delattr__', '__dir__', '__doc__', '__eq__', '__format__', '__ge__', '__getattribute__', '__gt__', '__hash__', '__init__', '__init_subclass__', '__le__', '__lt__', '__module__', '__ne__', '__new__', '__reduce__', '__reduce_ex__', '__repr__', '__setattr__', '__sizeof__', '__slots__', '__str__', '__subclasshook__', 'bits', 'block_size', 'from_binary_data', 'magic_number', 'merkle_hash', 'merkle_hash_raw', 'nonce', 'previous_hash', 'previous_hash_raw', 'time', 'timestamp', 'version']\n",
      "transaction fields:  42\n"
     ]
    }
   ],
   "source": [
    "# play with blocks\n",
    "from blockchain.reader import BlockchainFileReader\n",
    "\n",
    "block_reader = BlockchainFileReader('D:\\\\bitcoin\\\\blocks\\\\blk00001.dat')\n",
    "\n",
    "limit = 0\n",
    "for block in block_reader:\n",
    "    if limit >= 3:\n",
    "        break\n",
    "    print(\"total size: \", block.total_size)\n",
    "    print(\"block size: \", block.header.block_size)\n",
    "    print(\"merkle hash: \", block.header.merkle_hash) \n",
    "    print(\"header fields: \", dir(block.header) )\n",
    "    print(\"transaction fields: \", len(block.transactions) )\n",
    "    limit += 1"
   ]
  },
  {
   "cell_type": "code",
   "execution_count": 59,
   "metadata": {},
   "outputs": [
    {
     "name": "stdout",
     "output_type": "stream",
     "text": [
      "<blockchain.block.TransactionOutput object at 0x000002FAB15B6160>\n",
      "Address:  b'1AMbMayPcLwqYjALAVkVPYzaU3tTLotxcZ' Value:  50.0\n",
      "<blockchain.block.TransactionOutput object at 0x000002FAB15B6128>\n",
      "something wrong with address\n",
      "<blockchain.block.TransactionOutput object at 0x000002FAB15B65C0>\n",
      "something wrong with address\n",
      "<blockchain.block.TransactionOutput object at 0x000002FAB15B6710>\n",
      "something wrong with address\n",
      "<blockchain.block.TransactionOutput object at 0x000002FAB15B66A0>\n",
      "something wrong with address\n",
      "<blockchain.block.TransactionOutput object at 0x000002FAB15B6358>\n",
      "something wrong with address\n",
      "<blockchain.block.TransactionOutput object at 0x000002FAB15B6320>\n",
      "something wrong with address\n",
      "<blockchain.block.TransactionOutput object at 0x000002FAB15B6588>\n",
      "something wrong with address\n",
      "<blockchain.block.TransactionOutput object at 0x000002FAB15B66D8>\n",
      "something wrong with address\n",
      "<blockchain.block.TransactionOutput object at 0x000002FAB15B67B8>\n",
      "something wrong with address\n",
      "<blockchain.block.TransactionOutput object at 0x000002FAB15B67F0>\n",
      "something wrong with address\n",
      "<blockchain.block.TransactionOutput object at 0x000002FAB15B6828>\n",
      "something wrong with address\n",
      "<blockchain.block.TransactionOutput object at 0x000002FAB15B6860>\n",
      "something wrong with address\n",
      "<blockchain.block.TransactionOutput object at 0x000002FAB15B6898>\n",
      "something wrong with address\n",
      "<blockchain.block.TransactionOutput object at 0x000002FAB15B68D0>\n",
      "something wrong with address\n",
      "<blockchain.block.TransactionOutput object at 0x000002FAB15B64A8>\n",
      "something wrong with address\n",
      "<blockchain.block.TransactionOutput object at 0x000002FAB15B6668>\n",
      "Address:  b'1NFvibcdbx16xKjJSJfLYAgfRXRxJJQTEL' Value:  50.02\n",
      "<blockchain.block.TransactionOutput object at 0x000002FAB15B6780>\n",
      "something wrong with address\n",
      "<blockchain.block.TransactionOutput object at 0x000002FAB15B6390>\n",
      "something wrong with address\n",
      "<blockchain.block.TransactionOutput object at 0x000002FAB15B6518>\n",
      "something wrong with address\n",
      "<blockchain.block.TransactionOutput object at 0x000002FAB15B64E0>\n",
      "something wrong with address\n",
      "<blockchain.block.TransactionOutput object at 0x000002FAB15B6550>\n",
      "something wrong with address\n",
      "<blockchain.block.TransactionOutput object at 0x000002FAB15B6748>\n",
      "something wrong with address\n",
      "<blockchain.block.TransactionOutput object at 0x000002FAB15B6908>\n",
      "something wrong with address\n",
      "<blockchain.block.TransactionOutput object at 0x000002FAB15B6940>\n",
      "something wrong with address\n",
      "<blockchain.block.TransactionOutput object at 0x000002FAB15B6978>\n",
      "something wrong with address\n",
      "<blockchain.block.TransactionOutput object at 0x000002FAB15B69B0>\n",
      "something wrong with address\n",
      "<blockchain.block.TransactionOutput object at 0x000002FAB15B69E8>\n",
      "something wrong with address\n",
      "<blockchain.block.TransactionOutput object at 0x000002FAB15B6A20>\n",
      "something wrong with address\n",
      "<blockchain.block.TransactionOutput object at 0x000002FAB15B6A58>\n",
      "something wrong with address\n",
      "<blockchain.block.TransactionOutput object at 0x000002FAB15B6A90>\n",
      "something wrong with address\n"
     ]
    }
   ],
   "source": [
    "# play with transactions\n",
    "block_reader = BlockchainFileReader('D:\\\\bitcoin\\\\blocks\\\\blk00001.dat')\n",
    "\n",
    "limit = 2\n",
    "for i, block in enumerate(block_reader):\n",
    "    if i >= limit:\n",
    "        break\n",
    "    for transaction in block.transactions:\n",
    "        #print(transaction.inputs)\n",
    "        #print(transaction.outputs)\n",
    "        for output in transaction.outputs:\n",
    "            print(output)\n",
    "            try:\n",
    "                print(\"Address: \", output.address, \"Value: \", output.value/100000000 )\n",
    "            except TypeError:\n",
    "                print(\"something wrong with address\")\n",
    "                \n",
    "        "
   ]
  },
  {
   "cell_type": "code",
   "execution_count": 49,
   "metadata": {},
   "outputs": [
    {
     "name": "stdout",
     "output_type": "stream",
     "text": [
      "Centroids:  [[ 2.28241935e+02  2.20241935e+02  5.28886613e+04]\n",
      " [ 2.29938100e+02  2.21938100e+02 -2.56384098e+03]\n",
      " [ 2.23000000e+02  2.15000000e+02  4.63160000e+05]]\n"
     ]
    },
    {
     "data": {
      "text/plain": [
       "<matplotlib.collections.PathCollection at 0x2fab156a668>"
      ]
     },
     "execution_count": 49,
     "metadata": {},
     "output_type": "execute_result"
    },
    {
     "data": {
      "image/png": "[encoded data removed]",
      "text/plain": [
       "<Figure size 432x288 with 1 Axes>"
      ]
     },
     "metadata": {},
     "output_type": "display_data"
    }
   ],
   "source": [
    "# grab block info and try k-means clustering on them\n",
    "import numpy as np\n",
    "import matplotlib.pyplot as plt\n",
    "from sklearn.cluster import KMeans\n",
    "block_reader = BlockchainFileReader('D:\\\\bitcoin\\\\blocks\\\\blk00000.dat')\n",
    "\n",
    "limit = 1000\n",
    "prev_timestamp = 1231006505  # set to timestamp for origin block\n",
    "blockinfo = np.zeros((limit,3), dtype=np.int)\n",
    "\n",
    "for i, block in enumerate(block_reader):\n",
    "    if i >= limit:\n",
    "        break\n",
    "    blockinfo[i, 0] = np.int(block.total_size)\n",
    "    blockinfo[i, 1] = np.int(block.header.block_size)\n",
    "    blockinfo[i, 2] = np.int(block.header.timestamp - prev_timestamp)\n",
    "    prev_timestamp = block.header.timestamp\n",
    "    \n",
    "#print(blockinfo)\n",
    "kmeans = cluster.KMeans(n_clusters=3)\n",
    "kmeans.fit(blockinfo)\n",
    "print(\"Centroids: \", kmeans.cluster_centers_)  \n",
    "plt.scatter(blockinfo[:,1],blockinfo[:,2], c=kmeans.labels_, cmap='viridis')"
   ]
  },
  {
   "cell_type": "code",
   "execution_count": 70,
   "metadata": {},
   "outputs": [
    {
     "name": "stdout",
     "output_type": "stream",
     "text": [
      "Mean Distance from centroid:  72446793.611\n",
      "STD Distance from centroid:  138393.56063052095\n",
      "Anomalous Block:  9eba997652c77978e528641328c7224f9990afb40a6d57f985759dd704f4ef9e\n",
      "Anomalous Block:  eae7ed786bae7403015e9e1e8d12d01bb69fc1e1a2970780047f77ca6e7ac460\n",
      "Anomalous Block:  7bce53c079af3d6fc5c97354faeab46349acce6b81080babd06c68af024ed87d\n"
     ]
    }
   ],
   "source": [
    "# find the mean and std distance from the nearest centroid\n",
    "limit = 1000\n",
    "prev_timestamp = 1231006505\n",
    "distances = np.zeros(limit)\n",
    "sample = np.array([0,0,0], dtype=np.int)\n",
    "for i, block in enumerate(block_reader):\n",
    "    if i >= limit:\n",
    "        break\n",
    "    sample[0] = np.int(block.total_size)\n",
    "    sample[1] = np.int(block.header.block_size)\n",
    "    sample[2] = np.int(block.header.timestamp - prev_timestamp)\n",
    "    dists = [np.sum( np.abs(sample - centroid) ) for centroid in kmeans.cluster_centers_]\n",
    "    distances[i] = min(dists)\n",
    "\n",
    "dmean = np.mean(distances)\n",
    "dstd=np.std(distances)\n",
    "print('Mean Distance from centroid: ', dmean)\n",
    "print('STD Distance from centroid: ', dstd)\n",
    "  \n",
    "    \n",
    "# detect anomalies!\n",
    "limit = 2000\n",
    "for i, block in enumerate(block_reader):\n",
    "    if i >= limit:\n",
    "        break\n",
    "    sample[0] = np.int(block.total_size)\n",
    "    sample[1] = np.int(block.header.block_size)\n",
    "    sample[2] = np.int(block.header.timestamp - prev_timestamp)\n",
    "    dists = [np.sum( np.abs(sample - centroid) ) for centroid in kmeans.cluster_centers_]\n",
    "    min_dist = min(dists)\n",
    "    # pick a value for what's anomalous taking 5x standard deviation as a reasonable start\n",
    "    if abs(min_dist - dmean) > (5 * dstd):\n",
    "        #print(\"dist normalized: \", abs(min_dist - dmean))\n",
    "        print(\"Anomalous Block: \", block.header.merkle_hash)\n",
    "        "
   ]
  },
  {
   "cell_type": "code",
   "execution_count": null,
   "metadata": {},
   "outputs": [],
   "source": []
  }
 ],
 "metadata": {
  "kernelspec": {
   "display_name": "Python3.5-Blockchain",
   "language": "python",
   "name": "python3.5-blockchain"
  },
  "language_info": {
   "codemirror_mode": {
    "name": "ipython",
    "version": 3
   },
   "file_extension": ".py",
   "mimetype": "text/x-python",
   "name": "python",
   "nbconvert_exporter": "python",
   "pygments_lexer": "ipython3",
   "version": "3.6.2"
  }
 },
 "nbformat": 4,
 "nbformat_minor": 2
}
